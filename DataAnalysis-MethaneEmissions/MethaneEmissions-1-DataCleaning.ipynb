{
 "cells": [
  {
   "cell_type": "code",
   "execution_count": 1,
   "id": "ac6f98f6-9365-454a-bcfa-e54124e16cbf",
   "metadata": {},
   "outputs": [],
   "source": [
    "import pandas as pd\n",
    "df = pd.read_csv('IEA-methane-emissions-data.csv')"
   ]
  },
  {
   "cell_type": "code",
   "execution_count": 2,
   "id": "101cbe22-3368-4933-a6ef-8cec29b04975",
   "metadata": {},
   "outputs": [
    {
     "data": {
      "text/plain": [
       "Index(['region', 'country', 'emissions', 'source', 'type', 'segment', 'reason',\n",
       "       'baseYear', 'notes'],\n",
       "      dtype='object')"
      ]
     },
     "execution_count": 2,
     "metadata": {},
     "output_type": "execute_result"
    }
   ],
   "source": [
    "df.columns"
   ]
  },
  {
   "cell_type": "code",
   "execution_count": 3,
   "id": "5622b5d7-8998-41b5-9717-bb7b24c0bf0d",
   "metadata": {},
   "outputs": [
    {
     "name": "stdout",
     "output_type": "stream",
     "text": [
      "<class 'pandas.core.frame.DataFrame'>\n",
      "RangeIndex: 2122 entries, 0 to 2121\n",
      "Data columns (total 9 columns):\n",
      " #   Column     Non-Null Count  Dtype  \n",
      "---  ------     --------------  -----  \n",
      " 0   region     2122 non-null   object \n",
      " 1   country    2100 non-null   object \n",
      " 2   emissions  2122 non-null   float64\n",
      " 3   source     2122 non-null   object \n",
      " 4   type       2122 non-null   object \n",
      " 5   segment    2122 non-null   object \n",
      " 6   reason     2122 non-null   object \n",
      " 7   baseYear   2122 non-null   object \n",
      " 8   notes      2122 non-null   object \n",
      "dtypes: float64(1), object(8)\n",
      "memory usage: 149.3+ KB\n"
     ]
    }
   ],
   "source": [
    "df.info()"
   ]
  },
  {
   "cell_type": "code",
   "execution_count": 5,
   "id": "b72d5db1-47bd-47bd-8b1d-8e0fe7f1ed11",
   "metadata": {},
   "outputs": [
    {
     "data": {
      "text/plain": [
       "region        0\n",
       "country      22\n",
       "emissions     0\n",
       "source        0\n",
       "type          0\n",
       "segment       0\n",
       "reason        0\n",
       "baseYear      0\n",
       "notes         0\n",
       "dtype: int64"
      ]
     },
     "execution_count": 5,
     "metadata": {},
     "output_type": "execute_result"
    }
   ],
   "source": [
    "df.isnull().sum()"
   ]
  },
  {
   "cell_type": "code",
   "execution_count": 7,
   "id": "43d7dbf4-7c32-4f85-8d9a-2486ff36506b",
   "metadata": {},
   "outputs": [],
   "source": [
    "df = df.dropna()"
   ]
  },
  {
   "cell_type": "code",
   "execution_count": 9,
   "id": "18d71882-c937-424d-b410-7baa4f19e8be",
   "metadata": {},
   "outputs": [],
   "source": [
    "df = df.drop(columns=['source','notes'])"
   ]
  },
  {
   "cell_type": "code",
   "execution_count": 14,
   "id": "dd3900f4-a152-416e-aa08-ba4c60cf666f",
   "metadata": {},
   "outputs": [],
   "source": [
    "df.to_csv('Updated-MethaneEmissionsData.csv')"
   ]
  }
 ],
 "metadata": {
  "kernelspec": {
   "display_name": "Python 3 (ipykernel)",
   "language": "python",
   "name": "python3"
  },
  "language_info": {
   "codemirror_mode": {
    "name": "ipython",
    "version": 3
   },
   "file_extension": ".py",
   "mimetype": "text/x-python",
   "name": "python",
   "nbconvert_exporter": "python",
   "pygments_lexer": "ipython3",
   "version": "3.9.12"
  }
 },
 "nbformat": 4,
 "nbformat_minor": 5
}
